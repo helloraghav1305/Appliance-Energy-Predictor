{
 "cells": [
  {
   "cell_type": "code",
   "execution_count": 135,
   "metadata": {},
   "outputs": [],
   "source": [
    "# Importing the libraries\n",
    "\n",
    "import numpy as np\n",
    "import matplotlib.pyplot as plt\n",
    "import pandas as pd"
   ]
  },
  {
   "cell_type": "code",
   "execution_count": 136,
   "metadata": {},
   "outputs": [
    {
     "data": {
      "text/html": [
       "<div>\n",
       "<style scoped>\n",
       "    .dataframe tbody tr th:only-of-type {\n",
       "        vertical-align: middle;\n",
       "    }\n",
       "\n",
       "    .dataframe tbody tr th {\n",
       "        vertical-align: top;\n",
       "    }\n",
       "\n",
       "    .dataframe thead th {\n",
       "        text-align: right;\n",
       "    }\n",
       "</style>\n",
       "<table border=\"1\" class=\"dataframe\">\n",
       "  <thead>\n",
       "    <tr style=\"text-align: right;\">\n",
       "      <th></th>\n",
       "      <th>date</th>\n",
       "      <th>Appliances</th>\n",
       "      <th>lights</th>\n",
       "      <th>T1</th>\n",
       "      <th>RH_1</th>\n",
       "      <th>T2</th>\n",
       "      <th>RH_2</th>\n",
       "      <th>T3</th>\n",
       "      <th>RH_3</th>\n",
       "      <th>T4</th>\n",
       "      <th>...</th>\n",
       "      <th>T9</th>\n",
       "      <th>RH_9</th>\n",
       "      <th>T_out</th>\n",
       "      <th>Press_mm_hg</th>\n",
       "      <th>RH_out</th>\n",
       "      <th>Windspeed</th>\n",
       "      <th>Visibility</th>\n",
       "      <th>Tdewpoint</th>\n",
       "      <th>rv1</th>\n",
       "      <th>rv2</th>\n",
       "    </tr>\n",
       "  </thead>\n",
       "  <tbody>\n",
       "    <tr>\n",
       "      <th>4534</th>\n",
       "      <td>2016-02-12 04:40:00</td>\n",
       "      <td>60</td>\n",
       "      <td>0</td>\n",
       "      <td>21.100000</td>\n",
       "      <td>41.000000</td>\n",
       "      <td>20.290000</td>\n",
       "      <td>40.326667</td>\n",
       "      <td>21.200000</td>\n",
       "      <td>42.260000</td>\n",
       "      <td>19.70</td>\n",
       "      <td>...</td>\n",
       "      <td>18.70</td>\n",
       "      <td>45.000000</td>\n",
       "      <td>1.833333</td>\n",
       "      <td>746.500000</td>\n",
       "      <td>95.000000</td>\n",
       "      <td>2.666667</td>\n",
       "      <td>63.333333</td>\n",
       "      <td>1.133333</td>\n",
       "      <td>21.938961</td>\n",
       "      <td>21.938961</td>\n",
       "    </tr>\n",
       "    <tr>\n",
       "      <th>4121</th>\n",
       "      <td>2016-02-09 07:50:00</td>\n",
       "      <td>60</td>\n",
       "      <td>0</td>\n",
       "      <td>21.390000</td>\n",
       "      <td>42.790000</td>\n",
       "      <td>20.700000</td>\n",
       "      <td>41.730000</td>\n",
       "      <td>22.823333</td>\n",
       "      <td>42.566667</td>\n",
       "      <td>20.23</td>\n",
       "      <td>...</td>\n",
       "      <td>19.10</td>\n",
       "      <td>47.090000</td>\n",
       "      <td>6.400000</td>\n",
       "      <td>740.166667</td>\n",
       "      <td>83.333333</td>\n",
       "      <td>5.500000</td>\n",
       "      <td>26.166667</td>\n",
       "      <td>3.683333</td>\n",
       "      <td>37.104131</td>\n",
       "      <td>37.104131</td>\n",
       "    </tr>\n",
       "    <tr>\n",
       "      <th>13117</th>\n",
       "      <td>2016-04-11 19:10:00</td>\n",
       "      <td>140</td>\n",
       "      <td>30</td>\n",
       "      <td>22.790000</td>\n",
       "      <td>45.500000</td>\n",
       "      <td>21.926667</td>\n",
       "      <td>43.090000</td>\n",
       "      <td>23.200000</td>\n",
       "      <td>40.730000</td>\n",
       "      <td>22.10</td>\n",
       "      <td>...</td>\n",
       "      <td>21.00</td>\n",
       "      <td>42.090000</td>\n",
       "      <td>15.050000</td>\n",
       "      <td>750.566667</td>\n",
       "      <td>71.333333</td>\n",
       "      <td>0.833333</td>\n",
       "      <td>40.000000</td>\n",
       "      <td>9.833333</td>\n",
       "      <td>7.845923</td>\n",
       "      <td>7.845923</td>\n",
       "    </tr>\n",
       "    <tr>\n",
       "      <th>17048</th>\n",
       "      <td>2016-05-09 02:20:00</td>\n",
       "      <td>60</td>\n",
       "      <td>0</td>\n",
       "      <td>24.390000</td>\n",
       "      <td>38.433333</td>\n",
       "      <td>23.000000</td>\n",
       "      <td>37.760000</td>\n",
       "      <td>26.390000</td>\n",
       "      <td>38.200000</td>\n",
       "      <td>24.70</td>\n",
       "      <td>...</td>\n",
       "      <td>23.29</td>\n",
       "      <td>44.321429</td>\n",
       "      <td>15.500000</td>\n",
       "      <td>751.766667</td>\n",
       "      <td>61.333333</td>\n",
       "      <td>2.000000</td>\n",
       "      <td>40.000000</td>\n",
       "      <td>8.133333</td>\n",
       "      <td>12.054952</td>\n",
       "      <td>12.054952</td>\n",
       "    </tr>\n",
       "    <tr>\n",
       "      <th>8221</th>\n",
       "      <td>2016-03-08 19:10:00</td>\n",
       "      <td>110</td>\n",
       "      <td>20</td>\n",
       "      <td>20.033333</td>\n",
       "      <td>48.693333</td>\n",
       "      <td>17.963333</td>\n",
       "      <td>45.033333</td>\n",
       "      <td>20.100000</td>\n",
       "      <td>37.323333</td>\n",
       "      <td>18.79</td>\n",
       "      <td>...</td>\n",
       "      <td>17.60</td>\n",
       "      <td>36.030000</td>\n",
       "      <td>5.316667</td>\n",
       "      <td>757.166667</td>\n",
       "      <td>70.333333</td>\n",
       "      <td>3.000000</td>\n",
       "      <td>40.000000</td>\n",
       "      <td>0.283333</td>\n",
       "      <td>24.878199</td>\n",
       "      <td>24.878199</td>\n",
       "    </tr>\n",
       "  </tbody>\n",
       "</table>\n",
       "<p>5 rows × 29 columns</p>\n",
       "</div>"
      ],
      "text/plain": [
       "                      date  Appliances  lights         T1       RH_1  \\\n",
       "4534   2016-02-12 04:40:00          60       0  21.100000  41.000000   \n",
       "4121   2016-02-09 07:50:00          60       0  21.390000  42.790000   \n",
       "13117  2016-04-11 19:10:00         140      30  22.790000  45.500000   \n",
       "17048  2016-05-09 02:20:00          60       0  24.390000  38.433333   \n",
       "8221   2016-03-08 19:10:00         110      20  20.033333  48.693333   \n",
       "\n",
       "              T2       RH_2         T3       RH_3     T4  ...     T9  \\\n",
       "4534   20.290000  40.326667  21.200000  42.260000  19.70  ...  18.70   \n",
       "4121   20.700000  41.730000  22.823333  42.566667  20.23  ...  19.10   \n",
       "13117  21.926667  43.090000  23.200000  40.730000  22.10  ...  21.00   \n",
       "17048  23.000000  37.760000  26.390000  38.200000  24.70  ...  23.29   \n",
       "8221   17.963333  45.033333  20.100000  37.323333  18.79  ...  17.60   \n",
       "\n",
       "            RH_9      T_out  Press_mm_hg     RH_out  Windspeed  Visibility  \\\n",
       "4534   45.000000   1.833333   746.500000  95.000000   2.666667   63.333333   \n",
       "4121   47.090000   6.400000   740.166667  83.333333   5.500000   26.166667   \n",
       "13117  42.090000  15.050000   750.566667  71.333333   0.833333   40.000000   \n",
       "17048  44.321429  15.500000   751.766667  61.333333   2.000000   40.000000   \n",
       "8221   36.030000   5.316667   757.166667  70.333333   3.000000   40.000000   \n",
       "\n",
       "       Tdewpoint        rv1        rv2  \n",
       "4534    1.133333  21.938961  21.938961  \n",
       "4121    3.683333  37.104131  37.104131  \n",
       "13117   9.833333   7.845923   7.845923  \n",
       "17048   8.133333  12.054952  12.054952  \n",
       "8221    0.283333  24.878199  24.878199  \n",
       "\n",
       "[5 rows x 29 columns]"
      ]
     },
     "execution_count": 136,
     "metadata": {},
     "output_type": "execute_result"
    }
   ],
   "source": [
    "# Importing the dataset\n",
    "\n",
    "df = pd.read_csv('KAG.csv')\n",
    "df.sample(5)"
   ]
  },
  {
   "cell_type": "code",
   "execution_count": 137,
   "metadata": {},
   "outputs": [
    {
     "data": {
      "text/plain": [
       "False"
      ]
     },
     "execution_count": 137,
     "metadata": {},
     "output_type": "execute_result"
    }
   ],
   "source": [
    "# Checking for null values\n",
    "\n",
    "df.isna().any().any()"
   ]
  },
  {
   "cell_type": "code",
   "execution_count": 138,
   "metadata": {},
   "outputs": [
    {
     "data": {
      "text/plain": [
       "Index(['date', 'Appliances', 'lights', 'T1', 'RH_1', 'T2', 'RH_2', 'T3',\n",
       "       'RH_3', 'T4', 'RH_4', 'T5', 'RH_5', 'T6', 'RH_6', 'T7', 'RH_7', 'T8',\n",
       "       'RH_8', 'T9', 'RH_9', 'T_out', 'Press_mm_hg', 'RH_out', 'Windspeed',\n",
       "       'Visibility', 'Tdewpoint', 'rv1', 'rv2'],\n",
       "      dtype='object')"
      ]
     },
     "execution_count": 138,
     "metadata": {},
     "output_type": "execute_result"
    }
   ],
   "source": [
    "df.columns"
   ]
  },
  {
   "cell_type": "code",
   "execution_count": 139,
   "metadata": {},
   "outputs": [
    {
     "data": {
      "text/plain": [
       "date            object\n",
       "Appliances       int64\n",
       "lights           int64\n",
       "T1             float64\n",
       "RH_1           float64\n",
       "T2             float64\n",
       "RH_2           float64\n",
       "T3             float64\n",
       "RH_3           float64\n",
       "T4             float64\n",
       "RH_4           float64\n",
       "T5             float64\n",
       "RH_5           float64\n",
       "T6             float64\n",
       "RH_6           float64\n",
       "T7             float64\n",
       "RH_7           float64\n",
       "T8             float64\n",
       "RH_8           float64\n",
       "T9             float64\n",
       "RH_9           float64\n",
       "T_out          float64\n",
       "Press_mm_hg    float64\n",
       "RH_out         float64\n",
       "Windspeed      float64\n",
       "Visibility     float64\n",
       "Tdewpoint      float64\n",
       "rv1            float64\n",
       "rv2            float64\n",
       "dtype: object"
      ]
     },
     "execution_count": 139,
     "metadata": {},
     "output_type": "execute_result"
    }
   ],
   "source": [
    "df.dtypes"
   ]
  },
  {
   "cell_type": "code",
   "execution_count": 140,
   "metadata": {},
   "outputs": [
    {
     "data": {
      "text/plain": [
       "array([30, 40, 50, 70, 60, 10, 20,  0], dtype=int64)"
      ]
     },
     "execution_count": 140,
     "metadata": {},
     "output_type": "execute_result"
    }
   ],
   "source": [
    "df['lights'].unique()"
   ]
  },
  {
   "cell_type": "code",
   "execution_count": 141,
   "metadata": {},
   "outputs": [
    {
     "data": {
      "text/plain": [
       "array([  60,   50,   70,  230,  580,  430,  250,  100,   90,   80,  140,\n",
       "        120,  190,  110,  400,  390,  240,   40,   30,  310,  380,  370,\n",
       "         20,  260,  500,  450,  220,  170,  290,  130,  200,  210,  180,\n",
       "        350,  300,  340,  150,  330,  420,  520,  360,  270,  550,  690,\n",
       "        620,  610,  490,  410,  320,  740,  910,  510,  790,  460,  160,\n",
       "        480,  280,  560, 1080,  750,  470,  440,  800,  540,  530,  660,\n",
       "        630,  600,   10,  570,  830, 1070,  890,  590,  850,  710,  680,\n",
       "        670,  780,  640,  650,  700,  770,  720,  760,  860,  880,  730,\n",
       "        900,  820,  870,  840], dtype=int64)"
      ]
     },
     "execution_count": 141,
     "metadata": {},
     "output_type": "execute_result"
    }
   ],
   "source": [
    "df['Appliances'].unique()"
   ]
  },
  {
   "cell_type": "code",
   "execution_count": 142,
   "metadata": {},
   "outputs": [],
   "source": [
    "df['date'] = pd.to_datetime(df['date'], \n",
    " format = '%Y-%m-%d %H:%M:%S', \n",
    " errors = 'coerce')"
   ]
  },
  {
   "cell_type": "code",
   "execution_count": 143,
   "metadata": {},
   "outputs": [
    {
     "data": {
      "text/plain": [
       "dtype('<M8[ns]')"
      ]
     },
     "execution_count": 143,
     "metadata": {},
     "output_type": "execute_result"
    }
   ],
   "source": [
    "df['date'].dtypes"
   ]
  },
  {
   "cell_type": "code",
   "execution_count": 144,
   "metadata": {},
   "outputs": [],
   "source": [
    "df['year'] = df['date'].dt.year\n",
    "df['month'] = df['date'].dt.month\n",
    "df['week'] = df['date'].dt.week\n",
    "df['day'] = df['date'].dt.day\n",
    "df['hour'] = df['date'].dt.hour\n",
    "df['minute'] = df['date'].dt.minute\n",
    "df['dayofweek'] = df['date'].dt.dayofweek"
   ]
  },
  {
   "cell_type": "code",
   "execution_count": 145,
   "metadata": {},
   "outputs": [
    {
     "data": {
      "text/plain": [
       "year\n",
       "2016    19735\n",
       "dtype: int64"
      ]
     },
     "execution_count": 145,
     "metadata": {},
     "output_type": "execute_result"
    }
   ],
   "source": [
    "df.groupby('year').size()"
   ]
  },
  {
   "cell_type": "code",
   "execution_count": 146,
   "metadata": {},
   "outputs": [
    {
     "data": {
      "text/plain": [
       "month\n",
       "1    2922\n",
       "2    4176\n",
       "3    4464\n",
       "4    4320\n",
       "5    3853\n",
       "dtype: int64"
      ]
     },
     "execution_count": 146,
     "metadata": {},
     "output_type": "execute_result"
    }
   ],
   "source": [
    "df.groupby('month').size()"
   ]
  },
  {
   "cell_type": "code",
   "execution_count": 147,
   "metadata": {},
   "outputs": [
    {
     "data": {
      "text/plain": [
       "week\n",
       "2      906\n",
       "3     1008\n",
       "4     1008\n",
       "5     1008\n",
       "6     1008\n",
       "7     1008\n",
       "8     1008\n",
       "9     1008\n",
       "10    1008\n",
       "11    1008\n",
       "12    1008\n",
       "13    1008\n",
       "14    1008\n",
       "15    1008\n",
       "16    1008\n",
       "17    1008\n",
       "18    1008\n",
       "19    1008\n",
       "20    1008\n",
       "21     685\n",
       "dtype: int64"
      ]
     },
     "execution_count": 147,
     "metadata": {},
     "output_type": "execute_result"
    }
   ],
   "source": [
    "df.groupby('week').size()"
   ]
  },
  {
   "cell_type": "code",
   "execution_count": 148,
   "metadata": {},
   "outputs": [
    {
     "data": {
      "text/plain": [
       "day\n",
       "1     576\n",
       "2     576\n",
       "3     576\n",
       "4     576\n",
       "5     576\n",
       "6     576\n",
       "7     576\n",
       "8     576\n",
       "9     576\n",
       "10    576\n",
       "11    618\n",
       "12    720\n",
       "13    720\n",
       "14    720\n",
       "15    720\n",
       "16    720\n",
       "17    720\n",
       "18    720\n",
       "19    720\n",
       "20    720\n",
       "21    720\n",
       "22    720\n",
       "23    720\n",
       "24    720\n",
       "25    720\n",
       "26    720\n",
       "27    685\n",
       "28    576\n",
       "29    576\n",
       "30    432\n",
       "31    288\n",
       "dtype: int64"
      ]
     },
     "execution_count": 148,
     "metadata": {},
     "output_type": "execute_result"
    }
   ],
   "source": [
    "df.groupby('day').size()"
   ]
  },
  {
   "cell_type": "code",
   "execution_count": 149,
   "metadata": {},
   "outputs": [
    {
     "data": {
      "text/plain": [
       "hour\n",
       "0     822\n",
       "1     822\n",
       "2     822\n",
       "3     822\n",
       "4     822\n",
       "5     822\n",
       "6     822\n",
       "7     822\n",
       "8     822\n",
       "9     822\n",
       "10    822\n",
       "11    822\n",
       "12    822\n",
       "13    822\n",
       "14    822\n",
       "15    822\n",
       "16    822\n",
       "17    828\n",
       "18    823\n",
       "19    822\n",
       "20    822\n",
       "21    822\n",
       "22    822\n",
       "23    822\n",
       "dtype: int64"
      ]
     },
     "execution_count": 149,
     "metadata": {},
     "output_type": "execute_result"
    }
   ],
   "source": [
    "df.groupby('hour').size()"
   ]
  },
  {
   "cell_type": "code",
   "execution_count": 150,
   "metadata": {},
   "outputs": [
    {
     "data": {
      "text/plain": [
       "minute\n",
       "0     3290\n",
       "10    3289\n",
       "20    3289\n",
       "30    3289\n",
       "40    3289\n",
       "50    3289\n",
       "dtype: int64"
      ]
     },
     "execution_count": 150,
     "metadata": {},
     "output_type": "execute_result"
    }
   ],
   "source": [
    "df.groupby('minute').size()"
   ]
  },
  {
   "cell_type": "code",
   "execution_count": 151,
   "metadata": {},
   "outputs": [
    {
     "data": {
      "text/plain": [
       "dayofweek\n",
       "0    2778\n",
       "1    2880\n",
       "2    2880\n",
       "3    2880\n",
       "4    2845\n",
       "5    2736\n",
       "6    2736\n",
       "dtype: int64"
      ]
     },
     "execution_count": 151,
     "metadata": {},
     "output_type": "execute_result"
    }
   ],
   "source": [
    "df.groupby('dayofweek').size()"
   ]
  },
  {
   "cell_type": "code",
   "execution_count": 152,
   "metadata": {
    "scrolled": true
   },
   "outputs": [
    {
     "data": {
      "text/plain": [
       "Index(['date', 'Appliances', 'lights', 'T1', 'RH_1', 'T2', 'RH_2', 'T3',\n",
       "       'RH_3', 'T4', 'RH_4', 'T5', 'RH_5', 'T6', 'RH_6', 'T7', 'RH_7', 'T8',\n",
       "       'RH_8', 'T9', 'RH_9', 'T_out', 'Press_mm_hg', 'RH_out', 'Windspeed',\n",
       "       'Visibility', 'Tdewpoint', 'rv1', 'rv2', 'month', 'week', 'day', 'hour',\n",
       "       'minute', 'dayofweek'],\n",
       "      dtype='object')"
      ]
     },
     "execution_count": 152,
     "metadata": {},
     "output_type": "execute_result"
    }
   ],
   "source": [
    "df.drop('year', axis = 1, inplace = True)\n",
    "df.columns"
   ]
  },
  {
   "cell_type": "code",
   "execution_count": 153,
   "metadata": {},
   "outputs": [],
   "source": [
    "df.drop('date', axis = 1, inplace = True)"
   ]
  },
  {
   "cell_type": "code",
   "execution_count": 156,
   "metadata": {},
   "outputs": [],
   "source": [
    "df = df.sample(n = len(df), random_state = 1)\n",
    "df = df.reset_index(drop = True)"
   ]
  },
  {
   "cell_type": "code",
   "execution_count": 157,
   "metadata": {},
   "outputs": [],
   "source": [
    "X = df.drop('Appliances', axis = 1)\n",
    "y = df.Appliances"
   ]
  },
  {
   "cell_type": "code",
   "execution_count": 158,
   "metadata": {},
   "outputs": [
    {
     "data": {
      "text/html": [
       "<div>\n",
       "<style scoped>\n",
       "    .dataframe tbody tr th:only-of-type {\n",
       "        vertical-align: middle;\n",
       "    }\n",
       "\n",
       "    .dataframe tbody tr th {\n",
       "        vertical-align: top;\n",
       "    }\n",
       "\n",
       "    .dataframe thead th {\n",
       "        text-align: right;\n",
       "    }\n",
       "</style>\n",
       "<table border=\"1\" class=\"dataframe\">\n",
       "  <thead>\n",
       "    <tr style=\"text-align: right;\">\n",
       "      <th></th>\n",
       "      <th>lights</th>\n",
       "      <th>T1</th>\n",
       "      <th>RH_1</th>\n",
       "      <th>T2</th>\n",
       "      <th>RH_2</th>\n",
       "      <th>T3</th>\n",
       "      <th>RH_3</th>\n",
       "      <th>T4</th>\n",
       "      <th>RH_4</th>\n",
       "      <th>T5</th>\n",
       "      <th>...</th>\n",
       "      <th>Visibility</th>\n",
       "      <th>Tdewpoint</th>\n",
       "      <th>rv1</th>\n",
       "      <th>rv2</th>\n",
       "      <th>month</th>\n",
       "      <th>week</th>\n",
       "      <th>day</th>\n",
       "      <th>hour</th>\n",
       "      <th>minute</th>\n",
       "      <th>dayofweek</th>\n",
       "    </tr>\n",
       "  </thead>\n",
       "  <tbody>\n",
       "    <tr>\n",
       "      <th>0</th>\n",
       "      <td>0</td>\n",
       "      <td>18.963333</td>\n",
       "      <td>42.090</td>\n",
       "      <td>18.290</td>\n",
       "      <td>41.290000</td>\n",
       "      <td>19.8900</td>\n",
       "      <td>43.200000</td>\n",
       "      <td>18.50</td>\n",
       "      <td>41.790000</td>\n",
       "      <td>17.790000</td>\n",
       "      <td>...</td>\n",
       "      <td>30.000000</td>\n",
       "      <td>1.683333</td>\n",
       "      <td>19.215195</td>\n",
       "      <td>19.215195</td>\n",
       "      <td>1</td>\n",
       "      <td>2</td>\n",
       "      <td>14</td>\n",
       "      <td>2</td>\n",
       "      <td>10</td>\n",
       "      <td>3</td>\n",
       "    </tr>\n",
       "    <tr>\n",
       "      <th>1</th>\n",
       "      <td>20</td>\n",
       "      <td>22.600000</td>\n",
       "      <td>43.700</td>\n",
       "      <td>20.945</td>\n",
       "      <td>43.845000</td>\n",
       "      <td>23.2000</td>\n",
       "      <td>40.626667</td>\n",
       "      <td>22.70</td>\n",
       "      <td>42.000000</td>\n",
       "      <td>21.100000</td>\n",
       "      <td>...</td>\n",
       "      <td>40.000000</td>\n",
       "      <td>6.866667</td>\n",
       "      <td>17.428107</td>\n",
       "      <td>17.428107</td>\n",
       "      <td>4</td>\n",
       "      <td>15</td>\n",
       "      <td>11</td>\n",
       "      <td>22</td>\n",
       "      <td>20</td>\n",
       "      <td>0</td>\n",
       "    </tr>\n",
       "    <tr>\n",
       "      <th>2</th>\n",
       "      <td>0</td>\n",
       "      <td>24.700000</td>\n",
       "      <td>40.745</td>\n",
       "      <td>23.290</td>\n",
       "      <td>39.230000</td>\n",
       "      <td>25.3900</td>\n",
       "      <td>38.545000</td>\n",
       "      <td>24.29</td>\n",
       "      <td>40.400000</td>\n",
       "      <td>24.290000</td>\n",
       "      <td>...</td>\n",
       "      <td>28.166667</td>\n",
       "      <td>7.016667</td>\n",
       "      <td>20.378018</td>\n",
       "      <td>20.378018</td>\n",
       "      <td>5</td>\n",
       "      <td>21</td>\n",
       "      <td>24</td>\n",
       "      <td>20</td>\n",
       "      <td>10</td>\n",
       "      <td>1</td>\n",
       "    </tr>\n",
       "    <tr>\n",
       "      <th>3</th>\n",
       "      <td>0</td>\n",
       "      <td>20.025000</td>\n",
       "      <td>39.695</td>\n",
       "      <td>18.100</td>\n",
       "      <td>40.966667</td>\n",
       "      <td>20.7900</td>\n",
       "      <td>39.678000</td>\n",
       "      <td>18.60</td>\n",
       "      <td>39.723333</td>\n",
       "      <td>18.600000</td>\n",
       "      <td>...</td>\n",
       "      <td>21.666667</td>\n",
       "      <td>0.100000</td>\n",
       "      <td>22.965252</td>\n",
       "      <td>22.965252</td>\n",
       "      <td>2</td>\n",
       "      <td>6</td>\n",
       "      <td>13</td>\n",
       "      <td>9</td>\n",
       "      <td>20</td>\n",
       "      <td>5</td>\n",
       "    </tr>\n",
       "    <tr>\n",
       "      <th>4</th>\n",
       "      <td>0</td>\n",
       "      <td>21.000000</td>\n",
       "      <td>33.790</td>\n",
       "      <td>19.500</td>\n",
       "      <td>34.000000</td>\n",
       "      <td>20.2675</td>\n",
       "      <td>35.608750</td>\n",
       "      <td>19.50</td>\n",
       "      <td>33.260000</td>\n",
       "      <td>17.777143</td>\n",
       "      <td>...</td>\n",
       "      <td>22.000000</td>\n",
       "      <td>-1.400000</td>\n",
       "      <td>43.534302</td>\n",
       "      <td>43.534302</td>\n",
       "      <td>2</td>\n",
       "      <td>7</td>\n",
       "      <td>17</td>\n",
       "      <td>16</td>\n",
       "      <td>0</td>\n",
       "      <td>2</td>\n",
       "    </tr>\n",
       "  </tbody>\n",
       "</table>\n",
       "<p>5 rows × 33 columns</p>\n",
       "</div>"
      ],
      "text/plain": [
       "   lights         T1    RH_1      T2       RH_2       T3       RH_3     T4  \\\n",
       "0       0  18.963333  42.090  18.290  41.290000  19.8900  43.200000  18.50   \n",
       "1      20  22.600000  43.700  20.945  43.845000  23.2000  40.626667  22.70   \n",
       "2       0  24.700000  40.745  23.290  39.230000  25.3900  38.545000  24.29   \n",
       "3       0  20.025000  39.695  18.100  40.966667  20.7900  39.678000  18.60   \n",
       "4       0  21.000000  33.790  19.500  34.000000  20.2675  35.608750  19.50   \n",
       "\n",
       "        RH_4         T5  ...  Visibility  Tdewpoint        rv1        rv2  \\\n",
       "0  41.790000  17.790000  ...   30.000000   1.683333  19.215195  19.215195   \n",
       "1  42.000000  21.100000  ...   40.000000   6.866667  17.428107  17.428107   \n",
       "2  40.400000  24.290000  ...   28.166667   7.016667  20.378018  20.378018   \n",
       "3  39.723333  18.600000  ...   21.666667   0.100000  22.965252  22.965252   \n",
       "4  33.260000  17.777143  ...   22.000000  -1.400000  43.534302  43.534302   \n",
       "\n",
       "   month  week  day  hour  minute  dayofweek  \n",
       "0      1     2   14     2      10          3  \n",
       "1      4    15   11    22      20          0  \n",
       "2      5    21   24    20      10          1  \n",
       "3      2     6   13     9      20          5  \n",
       "4      2     7   17    16       0          2  \n",
       "\n",
       "[5 rows x 33 columns]"
      ]
     },
     "execution_count": 158,
     "metadata": {},
     "output_type": "execute_result"
    }
   ],
   "source": [
    "X.head()"
   ]
  },
  {
   "cell_type": "code",
   "execution_count": 159,
   "metadata": {},
   "outputs": [
    {
     "data": {
      "text/plain": [
       "0     50\n",
       "1     60\n",
       "2    100\n",
       "3    130\n",
       "4     60\n",
       "Name: Appliances, dtype: int64"
      ]
     },
     "execution_count": 159,
     "metadata": {},
     "output_type": "execute_result"
    }
   ],
   "source": [
    "y.head()"
   ]
  },
  {
   "cell_type": "code",
   "execution_count": 160,
   "metadata": {},
   "outputs": [],
   "source": [
    "from sklearn.model_selection import train_test_split\n",
    "X_train, X_test, y_train, y_test = train_test_split(X, y, test_size = 0.2, random_state = 1)"
   ]
  },
  {
   "cell_type": "code",
   "execution_count": 161,
   "metadata": {},
   "outputs": [],
   "source": [
    "from sklearn.linear_model import LinearRegression\n",
    "from sklearn.tree import DecisionTreeRegressor\n",
    "from sklearn.svm import SVR\n",
    "from sklearn.ensemble import RandomForestRegressor\n",
    "from sklearn.ensemble import ExtraTreesRegressor\n",
    "from sklearn.preprocessing import StandardScaler\n",
    "from sklearn import metrics"
   ]
  },
  {
   "cell_type": "code",
   "execution_count": 162,
   "metadata": {},
   "outputs": [],
   "source": [
    "def return_R2(pred):\n",
    "  return metrics.r2_score(y_test, pred)"
   ]
  },
  {
   "cell_type": "code",
   "execution_count": 163,
   "metadata": {},
   "outputs": [],
   "source": [
    "# Comparing various regression models\n",
    "\n",
    "def show_accuracy(train_X, train_y, test_X):\n",
    "  r_LR = LinearRegression()\n",
    "  r_DT = DecisionTreeRegressor(random_state = 0)\n",
    "  r_SV = SVR(kernel = 'linear')\n",
    "  r_RF = RandomForestRegressor(n_estimators = 10, random_state = 0)\n",
    "  r_ET = ExtraTreesRegressor()\n",
    "\n",
    "  # Feature scaling required only for linear regression and support vector\n",
    "\n",
    "  sc_LR = StandardScaler()\n",
    "  sc_SV = StandardScaler()\n",
    "\n",
    "  r_LR.fit(sc_LR.fit_transform(train_X), train_y)\n",
    "  r_DT.fit(train_X, train_y)\n",
    "  r_SV.fit(sc_SV.fit_transform(train_X), train_y)\n",
    "  r_RF.fit(train_X, train_y)\n",
    "  r_ET.fit(train_X, train_y)\n",
    "\n",
    "  pred_LR = r_LR.predict(sc_LR.transform(test_X))\n",
    "  pred_DT = r_DT.predict(test_X)\n",
    "  pred_SV = r_SV.predict(sc_SV.transform(test_X))\n",
    "  pred_RF = r_RF.predict(test_X)\n",
    "  pred_ET = r_ET.predict(test_X)\n",
    "\n",
    "  print('Linear Regression - ', return_R2(pred_LR))\n",
    "  print('Decision Tree - ', return_R2(pred_DT))\n",
    "  print('Support Vector - ', return_R2(pred_SV))\n",
    "  print('Random Forest - ', return_R2(pred_RF))\n",
    "  print('Extra Trees - ', return_R2(pred_ET))"
   ]
  },
  {
   "cell_type": "code",
   "execution_count": 164,
   "metadata": {},
   "outputs": [
    {
     "name": "stdout",
     "output_type": "stream",
     "text": [
      "Linear Regression -  0.16981047507022173\n",
      "Decision Tree -  0.23984130401610093\n",
      "Support Vector -  0.02461710770471004\n",
      "Random Forest -  0.4798799722485654\n",
      "Extra Trees -  0.5914203643506489\n"
     ]
    }
   ],
   "source": [
    "# Extra Trees Regressor shows the best test r2 score of .59\n",
    "\n",
    "show_accuracy(X_train, y_train, X_test)"
   ]
  },
  {
   "cell_type": "code",
   "execution_count": 165,
   "metadata": {},
   "outputs": [],
   "source": [
    "from sklearn.feature_selection import SelectKBest\n",
    "from sklearn.feature_selection import f_regression"
   ]
  },
  {
   "cell_type": "code",
   "execution_count": 166,
   "metadata": {},
   "outputs": [],
   "source": [
    "# Identifying inputs most relevant to target variable\n",
    "\n",
    "def feature_selection(X_train, y_train, X_test):\n",
    "    feat = SelectKBest(score_func=f_regression, k='all')\n",
    "    feat.fit(X_train, y_train)\n",
    "    return feat"
   ]
  },
  {
   "cell_type": "code",
   "execution_count": 167,
   "metadata": {},
   "outputs": [],
   "source": [
    "feat = feature_selection(X_train, y_train, X_test)"
   ]
  },
  {
   "cell_type": "code",
   "execution_count": 168,
   "metadata": {
    "scrolled": true
   },
   "outputs": [
    {
     "data": {
      "text/html": [
       "<div>\n",
       "<style scoped>\n",
       "    .dataframe tbody tr th:only-of-type {\n",
       "        vertical-align: middle;\n",
       "    }\n",
       "\n",
       "    .dataframe tbody tr th {\n",
       "        vertical-align: top;\n",
       "    }\n",
       "\n",
       "    .dataframe thead th {\n",
       "        text-align: right;\n",
       "    }\n",
       "</style>\n",
       "<table border=\"1\" class=\"dataframe\">\n",
       "  <thead>\n",
       "    <tr style=\"text-align: right;\">\n",
       "      <th></th>\n",
       "      <th>lights</th>\n",
       "      <th>T1</th>\n",
       "      <th>RH_1</th>\n",
       "      <th>T2</th>\n",
       "      <th>RH_2</th>\n",
       "      <th>T3</th>\n",
       "      <th>RH_3</th>\n",
       "      <th>T4</th>\n",
       "      <th>RH_4</th>\n",
       "      <th>T5</th>\n",
       "      <th>...</th>\n",
       "      <th>Visibility</th>\n",
       "      <th>Tdewpoint</th>\n",
       "      <th>rv1</th>\n",
       "      <th>rv2</th>\n",
       "      <th>month</th>\n",
       "      <th>week</th>\n",
       "      <th>day</th>\n",
       "      <th>hour</th>\n",
       "      <th>minute</th>\n",
       "      <th>dayofweek</th>\n",
       "    </tr>\n",
       "  </thead>\n",
       "  <tbody>\n",
       "    <tr>\n",
       "      <th>2510</th>\n",
       "      <td>0</td>\n",
       "      <td>20.000000</td>\n",
       "      <td>34.70</td>\n",
       "      <td>18.600000</td>\n",
       "      <td>35.290000</td>\n",
       "      <td>19.738571</td>\n",
       "      <td>35.700000</td>\n",
       "      <td>18.50</td>\n",
       "      <td>34.730000</td>\n",
       "      <td>17.251429</td>\n",
       "      <td>...</td>\n",
       "      <td>22.333333</td>\n",
       "      <td>0.266667</td>\n",
       "      <td>21.743244</td>\n",
       "      <td>21.743244</td>\n",
       "      <td>2</td>\n",
       "      <td>7</td>\n",
       "      <td>18</td>\n",
       "      <td>18</td>\n",
       "      <td>20</td>\n",
       "      <td>3</td>\n",
       "    </tr>\n",
       "    <tr>\n",
       "      <th>8378</th>\n",
       "      <td>0</td>\n",
       "      <td>23.890000</td>\n",
       "      <td>40.09</td>\n",
       "      <td>25.500000</td>\n",
       "      <td>34.197143</td>\n",
       "      <td>24.390000</td>\n",
       "      <td>37.700000</td>\n",
       "      <td>24.10</td>\n",
       "      <td>38.200000</td>\n",
       "      <td>20.361429</td>\n",
       "      <td>...</td>\n",
       "      <td>30.833333</td>\n",
       "      <td>8.800000</td>\n",
       "      <td>17.887101</td>\n",
       "      <td>17.887101</td>\n",
       "      <td>5</td>\n",
       "      <td>20</td>\n",
       "      <td>17</td>\n",
       "      <td>14</td>\n",
       "      <td>50</td>\n",
       "      <td>1</td>\n",
       "    </tr>\n",
       "    <tr>\n",
       "      <th>9339</th>\n",
       "      <td>0</td>\n",
       "      <td>18.963333</td>\n",
       "      <td>43.79</td>\n",
       "      <td>18.000000</td>\n",
       "      <td>44.163333</td>\n",
       "      <td>19.700000</td>\n",
       "      <td>43.590000</td>\n",
       "      <td>17.70</td>\n",
       "      <td>44.090000</td>\n",
       "      <td>17.066667</td>\n",
       "      <td>...</td>\n",
       "      <td>27.833333</td>\n",
       "      <td>1.166667</td>\n",
       "      <td>10.903908</td>\n",
       "      <td>10.903908</td>\n",
       "      <td>1</td>\n",
       "      <td>4</td>\n",
       "      <td>28</td>\n",
       "      <td>21</td>\n",
       "      <td>50</td>\n",
       "      <td>3</td>\n",
       "    </tr>\n",
       "    <tr>\n",
       "      <th>10503</th>\n",
       "      <td>0</td>\n",
       "      <td>22.500000</td>\n",
       "      <td>41.23</td>\n",
       "      <td>21.133333</td>\n",
       "      <td>41.633333</td>\n",
       "      <td>23.963333</td>\n",
       "      <td>36.966667</td>\n",
       "      <td>21.29</td>\n",
       "      <td>40.430000</td>\n",
       "      <td>20.700000</td>\n",
       "      <td>...</td>\n",
       "      <td>40.000000</td>\n",
       "      <td>6.433333</td>\n",
       "      <td>13.121974</td>\n",
       "      <td>13.121974</td>\n",
       "      <td>4</td>\n",
       "      <td>14</td>\n",
       "      <td>5</td>\n",
       "      <td>17</td>\n",
       "      <td>10</td>\n",
       "      <td>1</td>\n",
       "    </tr>\n",
       "    <tr>\n",
       "      <th>8505</th>\n",
       "      <td>10</td>\n",
       "      <td>19.890000</td>\n",
       "      <td>37.70</td>\n",
       "      <td>17.600000</td>\n",
       "      <td>39.700000</td>\n",
       "      <td>20.100000</td>\n",
       "      <td>39.333333</td>\n",
       "      <td>20.53</td>\n",
       "      <td>37.566667</td>\n",
       "      <td>17.730000</td>\n",
       "      <td>...</td>\n",
       "      <td>47.500000</td>\n",
       "      <td>-0.300000</td>\n",
       "      <td>12.841131</td>\n",
       "      <td>12.841131</td>\n",
       "      <td>3</td>\n",
       "      <td>10</td>\n",
       "      <td>7</td>\n",
       "      <td>0</td>\n",
       "      <td>30</td>\n",
       "      <td>0</td>\n",
       "    </tr>\n",
       "  </tbody>\n",
       "</table>\n",
       "<p>5 rows × 33 columns</p>\n",
       "</div>"
      ],
      "text/plain": [
       "       lights         T1   RH_1         T2       RH_2         T3       RH_3  \\\n",
       "2510        0  20.000000  34.70  18.600000  35.290000  19.738571  35.700000   \n",
       "8378        0  23.890000  40.09  25.500000  34.197143  24.390000  37.700000   \n",
       "9339        0  18.963333  43.79  18.000000  44.163333  19.700000  43.590000   \n",
       "10503       0  22.500000  41.23  21.133333  41.633333  23.963333  36.966667   \n",
       "8505       10  19.890000  37.70  17.600000  39.700000  20.100000  39.333333   \n",
       "\n",
       "          T4       RH_4         T5  ...  Visibility  Tdewpoint        rv1  \\\n",
       "2510   18.50  34.730000  17.251429  ...   22.333333   0.266667  21.743244   \n",
       "8378   24.10  38.200000  20.361429  ...   30.833333   8.800000  17.887101   \n",
       "9339   17.70  44.090000  17.066667  ...   27.833333   1.166667  10.903908   \n",
       "10503  21.29  40.430000  20.700000  ...   40.000000   6.433333  13.121974   \n",
       "8505   20.53  37.566667  17.730000  ...   47.500000  -0.300000  12.841131   \n",
       "\n",
       "             rv2  month  week  day  hour  minute  dayofweek  \n",
       "2510   21.743244      2     7   18    18      20          3  \n",
       "8378   17.887101      5    20   17    14      50          1  \n",
       "9339   10.903908      1     4   28    21      50          3  \n",
       "10503  13.121974      4    14    5    17      10          1  \n",
       "8505   12.841131      3    10    7     0      30          0  \n",
       "\n",
       "[5 rows x 33 columns]"
      ]
     },
     "execution_count": 168,
     "metadata": {},
     "output_type": "execute_result"
    }
   ],
   "source": [
    "X_trainls = X_train.copy()\n",
    "X_testls = X_test.copy()\n",
    "X_trainls.head()"
   ]
  },
  {
   "cell_type": "code",
   "execution_count": 169,
   "metadata": {},
   "outputs": [
    {
     "data": {
      "text/plain": [
       "Index(['lights', 'RH_1', 'T2', 'T3', 'T6', 'RH_6', 'RH_8', 'T_out', 'RH_out',\n",
       "       'Windspeed', 'hour'],\n",
       "      dtype='object')"
      ]
     },
     "execution_count": 169,
     "metadata": {},
     "output_type": "execute_result"
    }
   ],
   "source": [
    "# Only considering features with score >= 100\n",
    "\n",
    "i = 0\n",
    "for feature in X_trainls.columns:\n",
    "    if (feat.scores_[i] < 100):\n",
    "        X_trainls.drop(feature, axis = 1, inplace = True)\n",
    "        X_testls.drop(feature, axis = 1, inplace = True)\n",
    "    i = i + 1;\n",
    "X_trainls.columns    "
   ]
  },
  {
   "cell_type": "code",
   "execution_count": 170,
   "metadata": {},
   "outputs": [
    {
     "name": "stdout",
     "output_type": "stream",
     "text": [
      "Linear Regression -  0.1231355717508259\n",
      "Decision Tree -  0.15206474214026444\n",
      "Support Vector -  0.001088220313695487\n",
      "Random Forest -  0.47141939885103057\n",
      "Extra Trees -  0.574348108435707\n"
     ]
    }
   ],
   "source": [
    "# Extra again shows best performance with test r2 score of 0.57\n",
    "# however less as compared to previous scenario\n",
    "\n",
    "show_accuracy(X_trainls, y_train, X_testls)"
   ]
  },
  {
   "cell_type": "code",
   "execution_count": 171,
   "metadata": {},
   "outputs": [],
   "source": [
    "# Feature scaling carried out before ANN\n",
    "\n",
    "sc = StandardScaler()\n",
    "X_trainS = sc.fit_transform(X_train)\n",
    "X_testS = sc.transform(X_test)"
   ]
  },
  {
   "cell_type": "code",
   "execution_count": 172,
   "metadata": {},
   "outputs": [
    {
     "data": {
      "text/plain": [
       "(15788, 33)"
      ]
     },
     "execution_count": 172,
     "metadata": {},
     "output_type": "execute_result"
    }
   ],
   "source": [
    "X_trainS.shape"
   ]
  },
  {
   "cell_type": "code",
   "execution_count": 173,
   "metadata": {},
   "outputs": [
    {
     "name": "stdout",
     "output_type": "stream",
     "text": [
      "Epoch 1/100\n",
      "15788/15788 [==============================] - 2s 136us/sample - loss: 0.6991 - msle: 0.6991\n",
      "Epoch 2/100\n",
      "15788/15788 [==============================] - 2s 118us/sample - loss: 0.3016 - msle: 0.3016\n",
      "Epoch 3/100\n",
      "15788/15788 [==============================] - 2s 114us/sample - loss: 0.2882 - msle: 0.2882\n",
      "Epoch 4/100\n",
      "15788/15788 [==============================] - 2s 125us/sample - loss: 0.2820 - msle: 0.2820\n",
      "Epoch 5/100\n",
      "15788/15788 [==============================] - 2s 116us/sample - loss: 0.2753 - msle: 0.2753\n",
      "Epoch 6/100\n",
      "15788/15788 [==============================] - 2s 107us/sample - loss: 0.2684 - msle: 0.2684\n",
      "Epoch 7/100\n",
      "15788/15788 [==============================] - 2s 109us/sample - loss: 0.2579 - msle: 0.2579\n",
      "Epoch 8/100\n",
      "15788/15788 [==============================] - 2s 111us/sample - loss: 0.2522 - msle: 0.2522\n",
      "Epoch 9/100\n",
      "15788/15788 [==============================] - 2s 113us/sample - loss: 0.2485 - msle: 0.2485\n",
      "Epoch 10/100\n",
      "15788/15788 [==============================] - 2s 114us/sample - loss: 0.2431 - msle: 0.2431\n",
      "Epoch 11/100\n",
      "15788/15788 [==============================] - 2s 111us/sample - loss: 0.2366 - msle: 0.2366\n",
      "Epoch 12/100\n",
      "15788/15788 [==============================] - 2s 116us/sample - loss: 0.2337 - msle: 0.2337\n",
      "Epoch 13/100\n",
      "15788/15788 [==============================] - 2s 127us/sample - loss: 0.2267 - msle: 0.2267\n",
      "Epoch 14/100\n",
      "15788/15788 [==============================] - 2s 112us/sample - loss: 0.2240 - msle: 0.2240\n",
      "Epoch 15/100\n",
      "15788/15788 [==============================] - 2s 109us/sample - loss: 0.2201 - msle: 0.2201\n",
      "Epoch 16/100\n",
      "15788/15788 [==============================] - 2s 103us/sample - loss: 0.2167 - msle: 0.2167\n",
      "Epoch 17/100\n",
      "15788/15788 [==============================] - 2s 110us/sample - loss: 0.2137 - msle: 0.2137\n",
      "Epoch 18/100\n",
      "15788/15788 [==============================] - 2s 107us/sample - loss: 0.2087 - msle: 0.2087\n",
      "Epoch 19/100\n",
      "15788/15788 [==============================] - 2s 109us/sample - loss: 0.2084 - msle: 0.2084\n",
      "Epoch 20/100\n",
      "15788/15788 [==============================] - 2s 107us/sample - loss: 0.2020 - msle: 0.2020\n",
      "Epoch 21/100\n",
      "15788/15788 [==============================] - 2s 123us/sample - loss: 0.2024 - msle: 0.2024\n",
      "Epoch 22/100\n",
      "15788/15788 [==============================] - 2s 109us/sample - loss: 0.1972 - msle: 0.1972\n",
      "Epoch 23/100\n",
      "15788/15788 [==============================] - 2s 108us/sample - loss: 0.1959 - msle: 0.1959\n",
      "Epoch 24/100\n",
      "15788/15788 [==============================] - 2s 111us/sample - loss: 0.1946 - msle: 0.1946\n",
      "Epoch 25/100\n",
      "15788/15788 [==============================] - 2s 114us/sample - loss: 0.1915 - msle: 0.1915\n",
      "Epoch 26/100\n",
      "15788/15788 [==============================] - 2s 140us/sample - loss: 0.1907 - msle: 0.1907\n",
      "Epoch 27/100\n",
      "15788/15788 [==============================] - 2s 114us/sample - loss: 0.1878 - msle: 0.1878\n",
      "Epoch 28/100\n",
      "15788/15788 [==============================] - 2s 105us/sample - loss: 0.1830 - msle: 0.1830\n",
      "Epoch 29/100\n",
      "15788/15788 [==============================] - 2s 106us/sample - loss: 0.1817 - msle: 0.1817\n",
      "Epoch 30/100\n",
      "15788/15788 [==============================] - 2s 105us/sample - loss: 0.1819 - msle: 0.1819\n",
      "Epoch 31/100\n",
      "15788/15788 [==============================] - 2s 105us/sample - loss: 0.1795 - msle: 0.1795\n",
      "Epoch 32/100\n",
      "15788/15788 [==============================] - 2s 103us/sample - loss: 0.1768 - msle: 0.1768\n",
      "Epoch 33/100\n",
      "15788/15788 [==============================] - 2s 108us/sample - loss: 0.1756 - msle: 0.1756\n",
      "Epoch 34/100\n",
      "15788/15788 [==============================] - 2s 114us/sample - loss: 0.1750 - msle: 0.1750\n",
      "Epoch 35/100\n",
      "15788/15788 [==============================] - 2s 116us/sample - loss: 0.1713 - msle: 0.1713\n",
      "Epoch 36/100\n",
      "15788/15788 [==============================] - 2s 126us/sample - loss: 0.1722 - msle: 0.1722\n",
      "Epoch 37/100\n",
      "15788/15788 [==============================] - 2s 116us/sample - loss: 0.1691 - msle: 0.1691\n",
      "Epoch 38/100\n",
      "15788/15788 [==============================] - 2s 118us/sample - loss: 0.1670 - msle: 0.1670\n",
      "Epoch 39/100\n",
      "15788/15788 [==============================] - 2s 119us/sample - loss: 0.1652 - msle: 0.1652\n",
      "Epoch 40/100\n",
      "15788/15788 [==============================] - 2s 112us/sample - loss: 0.1624 - msle: 0.1624\n",
      "Epoch 41/100\n",
      "15788/15788 [==============================] - 2s 110us/sample - loss: 0.1648 - msle: 0.1648\n",
      "Epoch 42/100\n",
      "15788/15788 [==============================] - 2s 109us/sample - loss: 0.1628 - msle: 0.1628\n",
      "Epoch 43/100\n",
      "15788/15788 [==============================] - 2s 111us/sample - loss: 0.1615 - msle: 0.1615\n",
      "Epoch 44/100\n",
      "15788/15788 [==============================] - 2s 109us/sample - loss: 0.1571 - msle: 0.1571\n",
      "Epoch 45/100\n",
      "15788/15788 [==============================] - 2s 115us/sample - loss: 0.1538 - msle: 0.1538\n",
      "Epoch 46/100\n",
      "15788/15788 [==============================] - 2s 109us/sample - loss: 0.1564 - msle: 0.1564\n",
      "Epoch 47/100\n",
      "15788/15788 [==============================] - 2s 110us/sample - loss: 0.1548 - msle: 0.1548\n",
      "Epoch 48/100\n",
      "15788/15788 [==============================] - 2s 104us/sample - loss: 0.1525 - msle: 0.1525\n",
      "Epoch 49/100\n",
      "15788/15788 [==============================] - 2s 108us/sample - loss: 0.1517 - msle: 0.1517\n",
      "Epoch 50/100\n",
      "15788/15788 [==============================] - 2s 109us/sample - loss: 0.1506 - msle: 0.1506\n",
      "Epoch 51/100\n",
      "15788/15788 [==============================] - 2s 111us/sample - loss: 0.1479 - msle: 0.1479\n",
      "Epoch 52/100\n",
      "15788/15788 [==============================] - 2s 110us/sample - loss: 0.1488 - msle: 0.1488\n",
      "Epoch 53/100\n",
      "15788/15788 [==============================] - 2s 110us/sample - loss: 0.1479 - msle: 0.1479\n",
      "Epoch 54/100\n",
      "15788/15788 [==============================] - 2s 110us/sample - loss: 0.1474 - msle: 0.1474\n",
      "Epoch 55/100\n",
      "15788/15788 [==============================] - 2s 110us/sample - loss: 0.1456 - msle: 0.1456\n",
      "Epoch 56/100\n",
      "15788/15788 [==============================] - 2s 104us/sample - loss: 0.1419 - msle: 0.1419\n",
      "Epoch 57/100\n",
      "15788/15788 [==============================] - 2s 105us/sample - loss: 0.1411 - msle: 0.1411\n",
      "Epoch 58/100\n",
      "15788/15788 [==============================] - 2s 105us/sample - loss: 0.1421 - msle: 0.1421\n",
      "Epoch 59/100\n",
      "15788/15788 [==============================] - 2s 105us/sample - loss: 0.1402 - msle: 0.1402\n",
      "Epoch 60/100\n",
      "15788/15788 [==============================] - 2s 104us/sample - loss: 0.1377 - msle: 0.1377\n",
      "Epoch 61/100\n",
      "15788/15788 [==============================] - 2s 103us/sample - loss: 0.1396 - msle: 0.1396\n",
      "Epoch 62/100\n",
      "15788/15788 [==============================] - 2s 105us/sample - loss: 0.1378 - msle: 0.1378\n",
      "Epoch 63/100\n",
      "15788/15788 [==============================] - 2s 107us/sample - loss: 0.1373 - msle: 0.1373\n",
      "Epoch 64/100\n",
      "15788/15788 [==============================] - 2s 107us/sample - loss: 0.1354 - msle: 0.1354\n",
      "Epoch 65/100\n",
      "15788/15788 [==============================] - 2s 104us/sample - loss: 0.1356 - msle: 0.1356\n",
      "Epoch 66/100\n",
      "15788/15788 [==============================] - 2s 106us/sample - loss: 0.1333 - msle: 0.1333\n",
      "Epoch 67/100\n",
      "15788/15788 [==============================] - 2s 106us/sample - loss: 0.1337 - msle: 0.1337\n",
      "Epoch 68/100\n",
      "15788/15788 [==============================] - 2s 107us/sample - loss: 0.1311 - msle: 0.1311\n",
      "Epoch 69/100\n",
      "15788/15788 [==============================] - 2s 104us/sample - loss: 0.1298 - msle: 0.1298\n",
      "Epoch 70/100\n",
      "15788/15788 [==============================] - 2s 104us/sample - loss: 0.1287 - msle: 0.1287\n",
      "Epoch 71/100\n",
      "15788/15788 [==============================] - 2s 104us/sample - loss: 0.1277 - msle: 0.1277\n",
      "Epoch 72/100\n",
      "15788/15788 [==============================] - 2s 111us/sample - loss: 0.1316 - msle: 0.1316\n",
      "Epoch 73/100\n",
      "15788/15788 [==============================] - 2s 114us/sample - loss: 0.1266 - msle: 0.1266\n",
      "Epoch 74/100\n",
      "15788/15788 [==============================] - 2s 109us/sample - loss: 0.1276 - msle: 0.1276\n",
      "Epoch 75/100\n",
      "15788/15788 [==============================] - 2s 131us/sample - loss: 0.1257 - msle: 0.1257\n",
      "Epoch 76/100\n",
      "15788/15788 [==============================] - 2s 119us/sample - loss: 0.1250 - msle: 0.1250\n",
      "Epoch 77/100\n",
      "15788/15788 [==============================] - 2s 124us/sample - loss: 0.1242 - msle: 0.1242\n",
      "Epoch 78/100\n"
     ]
    },
    {
     "name": "stdout",
     "output_type": "stream",
     "text": [
      "15788/15788 [==============================] - 2s 110us/sample - loss: 0.1243 - msle: 0.1243\n",
      "Epoch 79/100\n",
      "15788/15788 [==============================] - 2s 101us/sample - loss: 0.1231 - msle: 0.1231\n",
      "Epoch 80/100\n",
      "15788/15788 [==============================] - 2s 106us/sample - loss: 0.1199 - msle: 0.1199\n",
      "Epoch 81/100\n",
      "15788/15788 [==============================] - 2s 112us/sample - loss: 0.1219 - msle: 0.1219\n",
      "Epoch 82/100\n",
      "15788/15788 [==============================] - 2s 102us/sample - loss: 0.1219 - msle: 0.1219\n",
      "Epoch 83/100\n",
      "15788/15788 [==============================] - 2s 100us/sample - loss: 0.1201 - msle: 0.1201\n",
      "Epoch 84/100\n",
      "15788/15788 [==============================] - 2s 101us/sample - loss: 0.1183 - msle: 0.1183\n",
      "Epoch 85/100\n",
      "15788/15788 [==============================] - 2s 104us/sample - loss: 0.1187 - msle: 0.1187\n",
      "Epoch 86/100\n",
      "15788/15788 [==============================] - 2s 111us/sample - loss: 0.1150 - msle: 0.1150\n",
      "Epoch 87/100\n",
      "15788/15788 [==============================] - 2s 108us/sample - loss: 0.1154 - msle: 0.1154\n",
      "Epoch 88/100\n",
      "15788/15788 [==============================] - 2s 113us/sample - loss: 0.1172 - msle: 0.1172\n",
      "Epoch 89/100\n",
      "15788/15788 [==============================] - 2s 111us/sample - loss: 0.1170 - msle: 0.1170\n",
      "Epoch 90/100\n",
      "15788/15788 [==============================] - 2s 108us/sample - loss: 0.1167 - msle: 0.1167\n",
      "Epoch 91/100\n",
      "15788/15788 [==============================] - 2s 112us/sample - loss: 0.1144 - msle: 0.1144\n",
      "Epoch 92/100\n",
      "15788/15788 [==============================] - 2s 114us/sample - loss: 0.1127 - msle: 0.1127\n",
      "Epoch 93/100\n",
      "15788/15788 [==============================] - 2s 111us/sample - loss: 0.1176 - msle: 0.1176\n",
      "Epoch 94/100\n",
      "15788/15788 [==============================] - 2s 104us/sample - loss: 0.1182 - msle: 0.1182\n",
      "Epoch 95/100\n",
      "15788/15788 [==============================] - 2s 104us/sample - loss: 0.1132 - msle: 0.1132\n",
      "Epoch 96/100\n",
      "15788/15788 [==============================] - 2s 107us/sample - loss: 0.1114 - msle: 0.1114\n",
      "Epoch 97/100\n",
      "15788/15788 [==============================] - 2s 103us/sample - loss: 0.1106 - msle: 0.1106\n",
      "Epoch 98/100\n",
      "15788/15788 [==============================] - 2s 107us/sample - loss: 0.1088 - msle: 0.1088\n",
      "Epoch 99/100\n",
      "15788/15788 [==============================] - 2s 101us/sample - loss: 0.1117 - msle: 0.1117\n",
      "Epoch 100/100\n",
      "15788/15788 [==============================] - 2s 101us/sample - loss: 0.1095 - msle: 0.1095\n"
     ]
    },
    {
     "data": {
      "text/plain": [
       "<tensorflow.python.keras.callbacks.History at 0x268b6fe8ec8>"
      ]
     },
     "execution_count": 173,
     "metadata": {},
     "output_type": "execute_result"
    }
   ],
   "source": [
    "import tensorflow as tf\n",
    "from tensorflow import keras\n",
    "\n",
    "model = keras.Sequential([\n",
    "    keras.layers.Dense(180, kernel_initializer='normal', activation='relu'),\n",
    "    keras.layers.Dropout(0.2),\n",
    "    keras.layers.Dense(450, kernel_initializer='normal', activation='relu'),\n",
    "    keras.layers.Dropout(0.2),\n",
    "    keras.layers.Dense(250, kernel_initializer='normal', activation='relu'),\n",
    "    keras.layers.Dense(1, kernel_initializer='normal', activation='linear')\n",
    "])\n",
    "\n",
    "model.compile(\n",
    "    loss='msle', \n",
    "    optimizer='adam',\n",
    "    metrics=['msle']\n",
    ")\n",
    "\n",
    "model.fit(\n",
    "    X_trainS, \n",
    "    y_train.values, \n",
    "    epochs=100\n",
    ")"
   ]
  },
  {
   "cell_type": "code",
   "execution_count": 174,
   "metadata": {},
   "outputs": [
    {
     "data": {
      "text/plain": [
       "2510      80\n",
       "8378      50\n",
       "9339      40\n",
       "10503    260\n",
       "8505      40\n",
       "Name: Appliances, dtype: int64"
      ]
     },
     "execution_count": 174,
     "metadata": {},
     "output_type": "execute_result"
    }
   ],
   "source": [
    "y_train[:5]"
   ]
  },
  {
   "cell_type": "code",
   "execution_count": 175,
   "metadata": {},
   "outputs": [
    {
     "data": {
      "text/plain": [
       "array([[-0.4755545 , -1.0462285 , -1.38965143, -0.79058711, -1.25389866,\n",
       "        -1.25439036, -1.08331774, -1.14964548, -0.98338301, -1.26358694,\n",
       "        -0.90274597, -0.71157728,  0.39798022, -1.26157566, -1.23495128,\n",
       "        -0.98685614, -1.11645688, -0.98154236, -1.52704993, -0.94909618,\n",
       "         0.13814326,  0.46388575, -0.68873437, -1.35326797, -0.82793017,\n",
       "        -0.22312659, -0.22312659, -0.8239546 , -0.77954969,  0.22884279,\n",
       "         0.93742937, -0.29321352,  0.01425664],\n",
       "       [-0.4755545 ,  1.36943446, -0.03708354,  2.34711816, -1.52201092,\n",
       "         1.0535316 , -0.46891347,  1.58209534, -0.18484016,  0.41476148,\n",
       "        -0.60261653,  2.13728684, -1.71835591,  1.33848983,  0.04275871,\n",
       "         0.43913549, -0.52826863,  1.6348841 , -0.2319947 ,  1.67294149,\n",
       "         0.33669907, -1.25979464,  0.39629904, -0.63372743,  1.2002818 ,\n",
       "        -0.48931942, -0.48931942,  1.41414746,  1.51963404,  0.11045851,\n",
       "         0.36066216,  1.46718265, -0.99058184],\n",
       "       [-0.4755545 , -1.68999129,  0.89139535, -1.06343105,  0.92300931,\n",
       "        -1.27352854,  1.3405071 , -1.53989417,  1.17061153, -1.36329589,\n",
       "         0.09127519, -1.1460944 ,  1.29814807, -1.06722733,  0.71262608,\n",
       "        -2.00907237,  0.47394799, -1.28324749,  0.71494813, -0.88992906,\n",
       "         1.38137341,  0.69741664, -0.07840307, -0.88768292, -0.61401719,\n",
       "        -0.97137511, -0.97137511, -1.56998862, -1.31013055,  1.41268566,\n",
       "         1.37000477,  1.46718265,  0.01425664],\n",
       "       [-0.4755545 ,  0.50625412,  0.24898834,  0.36142062,  0.30232068,\n",
       "         0.84183033, -0.69419504,  0.21134682,  0.32834444,  0.59747557,\n",
       "        -0.45307724,  1.09918297, -1.27854494,  0.95557109, -0.11393541,\n",
       "         1.1393536 , -0.61694343,  0.72234973,  0.16047549,  1.07815622,\n",
       "        -0.5297263 , -1.02626375,  0.39629904,  0.14224765,  0.63776988,\n",
       "        -0.81826013, -0.81826013,  0.66811344,  0.45847232, -1.31015293,\n",
       "         0.79323756, -0.88001225, -0.99058184],\n",
       "       [ 0.79786044, -1.11453773, -0.63683071, -1.24532701, -0.17198685,\n",
       "        -1.07505859,  0.03285002, -0.15938944, -0.33058766, -1.00532018,\n",
       "         1.6809314 , -1.4156257 ,  0.73094173, -1.1244813 , -0.7074144 ,\n",
       "        -0.30878605, -0.05682491, -0.94856912, -0.98061313, -1.38506443,\n",
       "        -1.0622169 ,  1.22008102, -1.23125107,  0.77713636, -0.96261612,\n",
       "        -0.83764698, -0.83764698, -0.07792058, -0.24896883, -1.07338436,\n",
       "        -1.65802305,  0.2935852 , -1.49300108]])"
      ]
     },
     "execution_count": 175,
     "metadata": {},
     "output_type": "execute_result"
    }
   ],
   "source": [
    "X_trainS[:5]"
   ]
  },
  {
   "cell_type": "code",
   "execution_count": 176,
   "metadata": {},
   "outputs": [],
   "source": [
    "pred = model.predict(X_testS)"
   ]
  },
  {
   "cell_type": "code",
   "execution_count": 177,
   "metadata": {},
   "outputs": [
    {
     "data": {
      "text/plain": [
       "array([[ 46.],\n",
       "       [147.],\n",
       "       [ 93.],\n",
       "       [152.],\n",
       "       [ 38.]], dtype=float32)"
      ]
     },
     "execution_count": 177,
     "metadata": {},
     "output_type": "execute_result"
    }
   ],
   "source": [
    "np.around(pred[:5])"
   ]
  },
  {
   "cell_type": "code",
   "execution_count": 178,
   "metadata": {},
   "outputs": [
    {
     "data": {
      "text/plain": [
       "0.3981958968190926"
      ]
     },
     "execution_count": 178,
     "metadata": {},
     "output_type": "execute_result"
    }
   ],
   "source": [
    "# Shows r2 score of 0.39 lesser than previous two scenarios\n",
    "\n",
    "metrics.r2_score(y_test, np.around(pred))"
   ]
  },
  {
   "cell_type": "code",
   "execution_count": 179,
   "metadata": {},
   "outputs": [
    {
     "data": {
      "text/plain": [
       "343       50\n",
       "13136    240\n",
       "19315     80\n",
       "4706     370\n",
       "5322      30\n",
       "Name: Appliances, dtype: int64"
      ]
     },
     "execution_count": 179,
     "metadata": {},
     "output_type": "execute_result"
    }
   ],
   "source": [
    "y_test[:5]"
   ]
  },
  {
   "cell_type": "code",
   "execution_count": 180,
   "metadata": {},
   "outputs": [],
   "source": [
    "# Conclusion\n",
    "\n",
    "# Thus the best test r2 score was obtained with Extra Trees Regressor \n",
    "# when all features were considered followed by Random Forest\n",
    "\n",
    "# When Correlation Feature selection is carried out, \n",
    "# it results in a slight decrease in r2 score\n",
    "\n",
    "# Also ANN carried out after feature selection doesn't \n",
    "# improve performance\n",
    "\n",
    "# Best test set R2 score - .59"
   ]
  }
 ],
 "metadata": {
  "kernelspec": {
   "display_name": "Python 3",
   "language": "python",
   "name": "python3"
  },
  "language_info": {
   "codemirror_mode": {
    "name": "ipython",
    "version": 3
   },
   "file_extension": ".py",
   "mimetype": "text/x-python",
   "name": "python",
   "nbconvert_exporter": "python",
   "pygments_lexer": "ipython3",
   "version": "3.7.6"
  }
 },
 "nbformat": 4,
 "nbformat_minor": 4
}
